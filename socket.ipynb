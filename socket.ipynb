{
 "cells": [
  {
   "cell_type": "code",
   "execution_count": null,
   "metadata": {},
   "outputs": [
    {
     "name": "stdout",
     "output_type": "stream",
     "text": [
      "Enter buffer size: 1\n",
      "Enter item to produce (or 'exit' to quit): ww\n",
      "Buffer is empty. Waiting for producer...\n",
      "Press enter to consume an item...nn\n"
     ]
    }
   ],
   "source": [
    "import socket\n",
    "import threading\n",
    "\n",
    "# Buffer class\n",
    "class Buffer:\n",
    "    def __init__(self, size):\n",
    "        self.size = size\n",
    "        self.buffer = []\n",
    "\n",
    "    def produce(self, item):\n",
    "        if len(self.buffer) < self.size:\n",
    "            self.buffer.append(item)\n",
    "            print(f\"Produced item: {item}\")\n",
    "        else:\n",
    "            print(\"Buffer is full. Waiting for consumer...\")\n",
    "\n",
    "    def consume(self):\n",
    "        if len(self.buffer) > 0:\n",
    "            item = self.buffer.pop(0)\n",
    "            print(f\"Consumed item: {item}\")\n",
    "        else:\n",
    "            print(\"Buffer is empty. Waiting for producer...\")\n",
    "\n",
    "# Producer function\n",
    "def producer(buffer):\n",
    "    while True:\n",
    "        item = input(\"Enter item to produce (or 'exit' to quit): \")\n",
    "        if item == \"exit\":\n",
    "            break\n",
    "        buffer.produce(item)\n",
    "\n",
    "# Consumer function\n",
    "def consumer(buffer):\n",
    "    while True:\n",
    "        input(\"Press enter to consume an item...\")\n",
    "        buffer.consume()\n",
    "\n",
    "# Main function\n",
    "def main():\n",
    "    buffer_size = int(input(\"Enter buffer size: \"))\n",
    "    buffer = Buffer(buffer_size)\n",
    "\n",
    "    producer_thread = threading.Thread(target=producer, args=(buffer,))\n",
    "    consumer_thread = threading.Thread(target=consumer, args=(buffer,))\n",
    "\n",
    "    producer_thread.start()\n",
    "    consumer_thread.start()\n",
    "\n",
    "    producer_thread.join()\n",
    "    consumer_thread.join()\n",
    "\n",
    "if __name__ == \"__main__\":\n",
    "    main()\n",
    "\n"
   ]
  },
  {
   "cell_type": "code",
   "execution_count": null,
   "metadata": {},
   "outputs": [],
   "source": []
  },
  {
   "cell_type": "code",
   "execution_count": null,
   "metadata": {},
   "outputs": [],
   "source": []
  },
  {
   "cell_type": "code",
   "execution_count": null,
   "metadata": {},
   "outputs": [],
   "source": []
  },
  {
   "cell_type": "code",
   "execution_count": null,
   "metadata": {},
   "outputs": [],
   "source": []
  }
 ],
 "metadata": {
  "kernelspec": {
   "display_name": "Python 3 (ipykernel)",
   "language": "python",
   "name": "python3"
  },
  "language_info": {
   "codemirror_mode": {
    "name": "ipython",
    "version": 3
   },
   "file_extension": ".py",
   "mimetype": "text/x-python",
   "name": "python",
   "nbconvert_exporter": "python",
   "pygments_lexer": "ipython3",
   "version": "3.9.12"
  }
 },
 "nbformat": 4,
 "nbformat_minor": 2
}
